{
  "nbformat": 4,
  "nbformat_minor": 0,
  "metadata": {
    "colab": {
      "provenance": [],
      "include_colab_link": true
    },
    "kernelspec": {
      "name": "python3",
      "display_name": "Python 3"
    },
    "language_info": {
      "name": "python"
    }
  },
  "cells": [
    {
      "cell_type": "markdown",
      "metadata": {
        "id": "view-in-github",
        "colab_type": "text"
      },
      "source": [
        "<a href=\"https://colab.research.google.com/github/MatheusHaliski/Android/blob/main/Aula02.ipynb\" target=\"_parent\"><img src=\"https://colab.research.google.com/assets/colab-badge.svg\" alt=\"Open In Colab\"/></a>"
      ]
    },
    {
      "cell_type": "code",
      "execution_count": 2,
      "metadata": {
        "id": "edPNScrYEP8W"
      },
      "outputs": [],
      "source": [
        "#importar bibliotecas\n",
        "from pyspark.sql import SparkSession\n",
        "from pyspark import SparkFiles"
      ]
    },
    {
      "cell_type": "code",
      "source": [
        "#criar contexto\n",
        "sc= SparkSession.builder.master('local[*]').appName('basics').getOrCreate()\n",
        "\n",
        "url = 'https://raw.githubusercontent.com/joegotz/bigDataAnalytics/main/realstate.csv'\n",
        "\n",
        "#add files\n",
        "sc.sparkContext.addFile(url)\n",
        "\n",
        "# criar dataframe\n",
        "df = sc.read.csv(SparkFiles.get(\"realstate.csv\"), header=True, inferSchema=True)"
      ],
      "metadata": {
        "id": "VYzlMo-iEbuc"
      },
      "execution_count": 3,
      "outputs": []
    },
    {
      "cell_type": "code",
      "source": [
        "#Demonstrar base\n",
        "df.head()"
      ],
      "metadata": {
        "colab": {
          "base_uri": "https://localhost:8080/"
        },
        "id": "49t6LFQYEbxN",
        "outputId": "41218029-47b9-4f2d-c2b6-909e2ed230ef"
      },
      "execution_count": 6,
      "outputs": [
        {
          "output_type": "execute_result",
          "data": {
            "text/plain": [
              "Row(F1=0, id=2595, neighbourhood='Midtown', latitude=40.75362, longitude=-73.98377, room_type='Entire home/apt', price=225, days_occupied_in_2019=15, minimum_nights=10, number_of_reviews=48, reviews_per_month=0.39, availability_2020=1)"
            ]
          },
          "metadata": {},
          "execution_count": 6
        }
      ]
    },
    {
      "cell_type": "code",
      "source": [
        "#mostrar o schema\n",
        "df.printSchema"
      ],
      "metadata": {
        "colab": {
          "base_uri": "https://localhost:8080/",
          "height": 187
        },
        "id": "T1gH1Y2ZEbzh",
        "outputId": "b7dcc5b9-860a-404f-9637-d1936a0ff166"
      },
      "execution_count": 7,
      "outputs": [
        {
          "output_type": "execute_result",
          "data": {
            "text/plain": [
              "<bound method DataFrame.printSchema of DataFrame[F1: int, id: int, neighbourhood: string, latitude: double, longitude: double, room_type: string, price: int, days_occupied_in_2019: int, minimum_nights: int, number_of_reviews: int, reviews_per_month: double, availability_2020: int]>"
            ],
            "text/html": [
              "<div style=\"max-width:800px; border: 1px solid var(--colab-border-color);\"><style>\n",
              "      pre.function-repr-contents {\n",
              "        overflow-x: auto;\n",
              "        padding: 8px 12px;\n",
              "        max-height: 500px;\n",
              "      }\n",
              "\n",
              "      pre.function-repr-contents.function-repr-contents-collapsed {\n",
              "        cursor: pointer;\n",
              "        max-height: 100px;\n",
              "      }\n",
              "    </style>\n",
              "    <pre style=\"white-space: initial; background:\n",
              "         var(--colab-secondary-surface-color); padding: 8px 12px;\n",
              "         border-bottom: 1px solid var(--colab-border-color);\"><b>pyspark.sql.dataframe.DataFrame.printSchema</b><br/>def printSchema(level: Optional[int]=None) -&gt; None</pre><pre class=\"function-repr-contents function-repr-contents-collapsed\" style=\"\"><a class=\"filepath\" style=\"display:none\" href=\"#\">/usr/local/lib/python3.11/dist-packages/pyspark/sql/dataframe.py</a>Prints out the schema in the tree format.\n",
              "Optionally allows to specify how many levels to print if schema is nested.\n",
              "\n",
              ".. versionadded:: 1.3.0\n",
              "\n",
              ".. versionchanged:: 3.4.0\n",
              "    Supports Spark Connect.\n",
              "\n",
              "Parameters\n",
              "----------\n",
              "level : int, optional, default None\n",
              "    How many levels to print for nested schemas.\n",
              "\n",
              "    .. versionchanged:: 3.5.0\n",
              "        Added Level parameter.\n",
              "\n",
              "Examples\n",
              "--------\n",
              "&gt;&gt;&gt; df = spark.createDataFrame(\n",
              "...     [(14, &quot;Tom&quot;), (23, &quot;Alice&quot;), (16, &quot;Bob&quot;)], [&quot;age&quot;, &quot;name&quot;])\n",
              "&gt;&gt;&gt; df.printSchema()\n",
              "root\n",
              " |-- age: long (nullable = true)\n",
              " |-- name: string (nullable = true)\n",
              "\n",
              "&gt;&gt;&gt; df = spark.createDataFrame([(1, (2,2))], [&quot;a&quot;, &quot;b&quot;])\n",
              "&gt;&gt;&gt; df.printSchema(1)\n",
              "root\n",
              " |-- a: long (nullable = true)\n",
              " |-- b: struct (nullable = true)\n",
              "\n",
              "&gt;&gt;&gt; df.printSchema(2)\n",
              "root\n",
              " |-- a: long (nullable = true)\n",
              " |-- b: struct (nullable = true)\n",
              " |    |-- _1: long (nullable = true)\n",
              " |    |-- _2: long (nullable = true)</pre>\n",
              "      <script>\n",
              "      if (google.colab.kernel.accessAllowed && google.colab.files && google.colab.files.view) {\n",
              "        for (const element of document.querySelectorAll('.filepath')) {\n",
              "          element.style.display = 'block'\n",
              "          element.onclick = (event) => {\n",
              "            event.preventDefault();\n",
              "            event.stopPropagation();\n",
              "            google.colab.files.view(element.textContent, 581);\n",
              "          };\n",
              "        }\n",
              "      }\n",
              "      for (const element of document.querySelectorAll('.function-repr-contents')) {\n",
              "        element.onclick = (event) => {\n",
              "          event.preventDefault();\n",
              "          event.stopPropagation();\n",
              "          element.classList.toggle('function-repr-contents-collapsed');\n",
              "        };\n",
              "      }\n",
              "      </script>\n",
              "      </div>"
            ]
          },
          "metadata": {},
          "execution_count": 7
        }
      ]
    },
    {
      "cell_type": "code",
      "source": [
        "# para usar o SQL tradicional, precisamos criar a view\n",
        "df.createOrReplaceTempView('realstate')\n"
      ],
      "metadata": {
        "id": "-i-G4s9wEirV"
      },
      "execution_count": 8,
      "outputs": []
    },
    {
      "cell_type": "code",
      "source": [
        "#1. selecionar os bairros de forma geral\n",
        "#a. SQL query\n",
        "df.select('neighbourhood').show()\n"
      ],
      "metadata": {
        "colab": {
          "base_uri": "https://localhost:8080/"
        },
        "id": "e3lkIQyxEit4",
        "outputId": "f11509be-caa4-4a90-cee2-d348babc780f"
      },
      "execution_count": 9,
      "outputs": [
        {
          "output_type": "stream",
          "name": "stdout",
          "text": [
            "+------------------+\n",
            "|     neighbourhood|\n",
            "+------------------+\n",
            "|           Midtown|\n",
            "|          Brooklyn|\n",
            "|         Manhattan|\n",
            "|Bedford-Stuyvesant|\n",
            "|         Manhattan|\n",
            "|   Lower East Side|\n",
            "|         Manhattan|\n",
            "|        Park Slope|\n",
            "|         Manhattan|\n",
            "|      Williamsburg|\n",
            "|          Brooklyn|\n",
            "|          Brooklyn|\n",
            "|          Brooklyn|\n",
            "|        Park Slope|\n",
            "|          Brooklyn|\n",
            "|          Brooklyn|\n",
            "|          Brooklyn|\n",
            "|          Brooklyn|\n",
            "|         Manhattan|\n",
            "|      East Village|\n",
            "+------------------+\n",
            "only showing top 20 rows\n",
            "\n"
          ]
        }
      ]
    },
    {
      "cell_type": "code",
      "source": [
        "#b. Utilizar o dataframe\n",
        "df.select('neighbourhood').show()\n"
      ],
      "metadata": {
        "colab": {
          "base_uri": "https://localhost:8080/"
        },
        "id": "dWFn60U0EiwC",
        "outputId": "779d1ebb-bb99-4dd8-910d-cada97877348"
      },
      "execution_count": 10,
      "outputs": [
        {
          "output_type": "stream",
          "name": "stdout",
          "text": [
            "+------------------+\n",
            "|     neighbourhood|\n",
            "+------------------+\n",
            "|           Midtown|\n",
            "|          Brooklyn|\n",
            "|         Manhattan|\n",
            "|Bedford-Stuyvesant|\n",
            "|         Manhattan|\n",
            "|   Lower East Side|\n",
            "|         Manhattan|\n",
            "|        Park Slope|\n",
            "|         Manhattan|\n",
            "|      Williamsburg|\n",
            "|          Brooklyn|\n",
            "|          Brooklyn|\n",
            "|          Brooklyn|\n",
            "|        Park Slope|\n",
            "|          Brooklyn|\n",
            "|          Brooklyn|\n",
            "|          Brooklyn|\n",
            "|          Brooklyn|\n",
            "|         Manhattan|\n",
            "|      East Village|\n",
            "+------------------+\n",
            "only showing top 20 rows\n",
            "\n"
          ]
        }
      ]
    },
    {
      "cell_type": "code",
      "source": [
        "#c. utilizando funções do spark.sql\n",
        "import pyspark.sql.functions as f\n"
      ],
      "metadata": {
        "id": "VeYaRiV3Eiyb"
      },
      "execution_count": 11,
      "outputs": []
    },
    {
      "cell_type": "code",
      "source": [
        "#2. seleção de bairros e preços com condição, price >120\n",
        "#a. sql\n",
        "df.select('neighbourhood', 'price').filter(df.price > 120).show()\n",
        "query = 'Select neighbourhood, price from realstate where price > 120'\n",
        "sc.sql(query).show()"
      ],
      "metadata": {
        "colab": {
          "base_uri": "https://localhost:8080/"
        },
        "id": "ZuSSVyt6Ei0n",
        "outputId": "fddad84b-e447-48fb-fda1-23d7df04ac1d"
      },
      "execution_count": 14,
      "outputs": [
        {
          "output_type": "stream",
          "name": "stdout",
          "text": [
            "+----------------+-----+\n",
            "|   neighbourhood|price|\n",
            "+----------------+-----+\n",
            "|         Midtown|  225|\n",
            "|       Manhattan|  200|\n",
            "| Lower East Side|  150|\n",
            "|    Williamsburg|  140|\n",
            "|        Brooklyn|  199|\n",
            "|        Brooklyn|  299|\n",
            "|    East Village|  180|\n",
            "|       Manhattan|  135|\n",
            "|       Manhattan|  150|\n",
            "|        Flatbush|  150|\n",
            "|Long Island City|  130|\n",
            "| Upper West Side|  151|\n",
            "|    Williamsburg|  228|\n",
            "|      Greenpoint|  149|\n",
            "|        Kips Bay|  200|\n",
            "|    Williamsburg|  150|\n",
            "|       Manhattan|  180|\n",
            "|        Brooklyn|  200|\n",
            "|        Brooklyn|  250|\n",
            "|     East Harlem|  225|\n",
            "+----------------+-----+\n",
            "only showing top 20 rows\n",
            "\n",
            "+----------------+-----+\n",
            "|   neighbourhood|price|\n",
            "+----------------+-----+\n",
            "|         Midtown|  225|\n",
            "|       Manhattan|  200|\n",
            "| Lower East Side|  150|\n",
            "|    Williamsburg|  140|\n",
            "|        Brooklyn|  199|\n",
            "|        Brooklyn|  299|\n",
            "|    East Village|  180|\n",
            "|       Manhattan|  135|\n",
            "|       Manhattan|  150|\n",
            "|        Flatbush|  150|\n",
            "|Long Island City|  130|\n",
            "| Upper West Side|  151|\n",
            "|    Williamsburg|  228|\n",
            "|      Greenpoint|  149|\n",
            "|        Kips Bay|  200|\n",
            "|    Williamsburg|  150|\n",
            "|       Manhattan|  180|\n",
            "|        Brooklyn|  200|\n",
            "|        Brooklyn|  250|\n",
            "|     East Harlem|  225|\n",
            "+----------------+-----+\n",
            "only showing top 20 rows\n",
            "\n"
          ]
        }
      ]
    },
    {
      "cell_type": "code",
      "source": [
        "#b. utilizando o Spark SQL e dataframe\n",
        "df.select('neighbourhood', 'price').filter(df.price > 120).show()\n",
        "df.where(df.price > 120).groupBy('neighbourhood').count().withColumnRenamed('count', 'contagem').orderBy('contagem', ascending=False).show(5)\n"
      ],
      "metadata": {
        "colab": {
          "base_uri": "https://localhost:8080/"
        },
        "id": "uzO63spgEi2-",
        "outputId": "23c7cbcf-6df3-42a9-9c72-18896ed931ee"
      },
      "execution_count": 16,
      "outputs": [
        {
          "output_type": "stream",
          "name": "stdout",
          "text": [
            "+----------------+-----+\n",
            "|   neighbourhood|price|\n",
            "+----------------+-----+\n",
            "|         Midtown|  225|\n",
            "|       Manhattan|  200|\n",
            "| Lower East Side|  150|\n",
            "|    Williamsburg|  140|\n",
            "|        Brooklyn|  199|\n",
            "|        Brooklyn|  299|\n",
            "|    East Village|  180|\n",
            "|       Manhattan|  135|\n",
            "|       Manhattan|  150|\n",
            "|        Flatbush|  150|\n",
            "|Long Island City|  130|\n",
            "| Upper West Side|  151|\n",
            "|    Williamsburg|  228|\n",
            "|      Greenpoint|  149|\n",
            "|        Kips Bay|  200|\n",
            "|    Williamsburg|  150|\n",
            "|       Manhattan|  180|\n",
            "|        Brooklyn|  200|\n",
            "|        Brooklyn|  250|\n",
            "|     East Harlem|  225|\n",
            "+----------------+-----+\n",
            "only showing top 20 rows\n",
            "\n",
            "+------------------+--------+\n",
            "|     neighbourhood|contagem|\n",
            "+------------------+--------+\n",
            "|         Manhattan|    1956|\n",
            "|          Brooklyn|    1488|\n",
            "|           Midtown|     319|\n",
            "|      Williamsburg|     300|\n",
            "|Bedford-Stuyvesant|     279|\n",
            "+------------------+--------+\n",
            "only showing top 5 rows\n",
            "\n"
          ]
        }
      ]
    },
    {
      "cell_type": "code",
      "source": [
        "#c. usando funções\n",
        "import pyspark.sql.functions as func\n",
        "df.select('price','neighbourhood').where(func.col('neighbourhood')=='The Bronx').groupby('neighbourhood').max().show(5)\n"
      ],
      "metadata": {
        "colab": {
          "base_uri": "https://localhost:8080/"
        },
        "id": "P8hSgZTHEi5P",
        "outputId": "adf38b34-1731-4d65-e899-ef2a440e79df"
      },
      "execution_count": 21,
      "outputs": [
        {
          "output_type": "stream",
          "name": "stdout",
          "text": [
            "+-------------+----------+\n",
            "|neighbourhood|max(price)|\n",
            "+-------------+----------+\n",
            "|    The Bronx|       970|\n",
            "+-------------+----------+\n",
            "\n"
          ]
        }
      ]
    },
    {
      "cell_type": "code",
      "source": [
        "#3.Contagem de apartamentos por bairro, com preços maiores que 120\n",
        "#a. sql puro\n",
        "query = 'Select neighbourhood, count(*) as contagem from realstate where price > 120 group by neighbourhood order by contagem desc'\n",
        "sc.sql(query).show(5)"
      ],
      "metadata": {
        "colab": {
          "base_uri": "https://localhost:8080/"
        },
        "id": "J2NLRLO-Eb1v",
        "outputId": "61000198-f2c7-4bf8-b3ed-648cefeefd02"
      },
      "execution_count": 24,
      "outputs": [
        {
          "output_type": "stream",
          "name": "stdout",
          "text": [
            "+------------------+--------+\n",
            "|     neighbourhood|contagem|\n",
            "+------------------+--------+\n",
            "|         Manhattan|    1956|\n",
            "|          Brooklyn|    1488|\n",
            "|           Midtown|     319|\n",
            "|      Williamsburg|     300|\n",
            "|Bedford-Stuyvesant|     279|\n",
            "+------------------+--------+\n",
            "only showing top 5 rows\n",
            "\n"
          ]
        }
      ]
    },
    {
      "cell_type": "code",
      "source": [
        "#b. Contagem de apartamentos por bairro, com preços maiores que 120 utilizando Spark SQL/dataframe\n",
        "df.select('neighbourhood', 'price').filter(df.price > 120).groupBy('neighbourhood').count().withColumnRenamed('count', 'contagem').orderBy('contagem', ascending=False).show(5)\n",
        "\n"
      ],
      "metadata": {
        "colab": {
          "base_uri": "https://localhost:8080/"
        },
        "id": "ZPH6w1LyEb32",
        "outputId": "1a727f0b-bef6-4350-c509-b4290bcf81f6"
      },
      "execution_count": 23,
      "outputs": [
        {
          "output_type": "stream",
          "name": "stdout",
          "text": [
            "+------------------+--------+\n",
            "|     neighbourhood|contagem|\n",
            "+------------------+--------+\n",
            "|         Manhattan|    1956|\n",
            "|          Brooklyn|    1488|\n",
            "|           Midtown|     319|\n",
            "|      Williamsburg|     300|\n",
            "|Bedford-Stuyvesant|     279|\n",
            "+------------------+--------+\n",
            "only showing top 5 rows\n",
            "\n"
          ]
        }
      ]
    },
    {
      "cell_type": "code",
      "source": [
        "#c. utilizando funções\n",
        "import pyspark.sql.functions as func\n",
        "df.select('price','neighbourhood').where(func.col('price')>120).groupby('neighbourhood').count().withColumnRenamed('count', 'contagem').orderBy('contagem', ascending=False).show(5)\n"
      ],
      "metadata": {
        "colab": {
          "base_uri": "https://localhost:8080/"
        },
        "id": "dmMIur1FHPiM",
        "outputId": "644353bb-91bf-4c6c-ec5a-e287658e318a"
      },
      "execution_count": 25,
      "outputs": [
        {
          "output_type": "stream",
          "name": "stdout",
          "text": [
            "+------------------+--------+\n",
            "|     neighbourhood|contagem|\n",
            "+------------------+--------+\n",
            "|         Manhattan|    1956|\n",
            "|          Brooklyn|    1488|\n",
            "|           Midtown|     319|\n",
            "|      Williamsburg|     300|\n",
            "|Bedford-Stuyvesant|     279|\n",
            "+------------------+--------+\n",
            "only showing top 5 rows\n",
            "\n"
          ]
        }
      ]
    },
    {
      "cell_type": "code",
      "source": [
        "#4. selecionar apartamento mais caro por bairro\n",
        "#a. sql puro\n",
        "query = 'Select neighbourhood, max(price) as max_price from realstate group by neighbourhood order by max_price desc'\n",
        "sc.sql(query).show(5)\n",
        "\n"
      ],
      "metadata": {
        "colab": {
          "base_uri": "https://localhost:8080/"
        },
        "id": "4mUOj_BBHPkp",
        "outputId": "8c233cfe-f93b-4d96-9e75-fbe9c157a5a5"
      },
      "execution_count": 26,
      "outputs": [
        {
          "output_type": "stream",
          "name": "stdout",
          "text": [
            "+---------------+---------+\n",
            "|  neighbourhood|max_price|\n",
            "+---------------+---------+\n",
            "|      Manhattan|     9999|\n",
            "|       Brooklyn|     8000|\n",
            "|Upper West Side|     3000|\n",
            "|         Nolita|     2990|\n",
            "| Hell's Kitchen|     2200|\n",
            "+---------------+---------+\n",
            "only showing top 5 rows\n",
            "\n"
          ]
        }
      ]
    },
    {
      "cell_type": "markdown",
      "source": [],
      "metadata": {
        "id": "Qpzqfc5eH8JF"
      }
    },
    {
      "cell_type": "code",
      "source": [
        "#b. selecionar apartamento mais caro por bairro utilizando dataframe Spark SQL\n",
        "df.groupBy('neighbourhood').max('price').withColumnRenamed('max(price)', 'max_price').orderBy('max_price', ascending=False).show(5)\n",
        "\n"
      ],
      "metadata": {
        "colab": {
          "base_uri": "https://localhost:8080/"
        },
        "id": "eXRtaKLAHPnB",
        "outputId": "9c949287-3f29-4b58-8f03-3c1af8cd1dcc"
      },
      "execution_count": 28,
      "outputs": [
        {
          "output_type": "stream",
          "name": "stdout",
          "text": [
            "+---------------+---------+\n",
            "|  neighbourhood|max_price|\n",
            "+---------------+---------+\n",
            "|      Manhattan|     9999|\n",
            "|       Brooklyn|     8000|\n",
            "|Upper West Side|     3000|\n",
            "|         Nolita|     2990|\n",
            "| Hell's Kitchen|     2200|\n",
            "+---------------+---------+\n",
            "only showing top 5 rows\n",
            "\n"
          ]
        }
      ]
    },
    {
      "cell_type": "code",
      "source": [
        "#c. utilizando funções do Spark SQL\n",
        "df.groupBy('neighbourhood').agg(func.max('price').alias('max_price')).orderBy('max_price', ascending=False).show(5)\n"
      ],
      "metadata": {
        "id": "gbnxMEyeHPpV",
        "colab": {
          "base_uri": "https://localhost:8080/"
        },
        "outputId": "7a256948-70fb-4828-d62e-afbba544302e"
      },
      "execution_count": 29,
      "outputs": [
        {
          "output_type": "stream",
          "name": "stdout",
          "text": [
            "+---------------+---------+\n",
            "|  neighbourhood|max_price|\n",
            "+---------------+---------+\n",
            "|      Manhattan|     9999|\n",
            "|       Brooklyn|     8000|\n",
            "|Upper West Side|     3000|\n",
            "|         Nolita|     2990|\n",
            "| Hell's Kitchen|     2200|\n",
            "+---------------+---------+\n",
            "only showing top 5 rows\n",
            "\n"
          ]
        }
      ]
    },
    {
      "cell_type": "code",
      "source": [
        "#5. Select do valor mais caro de Manhattan\n",
        "#a. usando sql\n",
        "query = 'Select max(price) from realstate where neighbourhood = \"Manhattan\"'\n",
        "sc.sql(query).show()\n",
        "\n"
      ],
      "metadata": {
        "id": "u8zfZGV4JfC0",
        "colab": {
          "base_uri": "https://localhost:8080/"
        },
        "outputId": "3db32068-b27e-48cc-a53b-6364ee68430d"
      },
      "execution_count": 30,
      "outputs": [
        {
          "output_type": "stream",
          "name": "stdout",
          "text": [
            "+----------+\n",
            "|max(price)|\n",
            "+----------+\n",
            "|      9999|\n",
            "+----------+\n",
            "\n"
          ]
        }
      ]
    },
    {
      "cell_type": "code",
      "source": [
        "#b. usando dataframe\n",
        "df.select('price').where(df.neighbourhood == 'Manhattan').agg(func.max('price')).show()\n",
        "\n"
      ],
      "metadata": {
        "id": "YZoWvmnmJfFK",
        "colab": {
          "base_uri": "https://localhost:8080/"
        },
        "outputId": "2718633f-9c44-4a1a-87d5-f7e26dd8c504"
      },
      "execution_count": 31,
      "outputs": [
        {
          "output_type": "stream",
          "name": "stdout",
          "text": [
            "+----------+\n",
            "|max(price)|\n",
            "+----------+\n",
            "|      9999|\n",
            "+----------+\n",
            "\n"
          ]
        }
      ]
    },
    {
      "cell_type": "code",
      "source": [
        "#c. usando funções\n",
        "df.select('price').where(func.col('neighbourhood')=='Manhattan').agg(func.max('price')).show()\n"
      ],
      "metadata": {
        "id": "fq6oPeiyJfHk",
        "colab": {
          "base_uri": "https://localhost:8080/"
        },
        "outputId": "fd482d91-8cce-45ba-e01f-f912f150041d"
      },
      "execution_count": 32,
      "outputs": [
        {
          "output_type": "stream",
          "name": "stdout",
          "text": [
            "+----------+\n",
            "|max(price)|\n",
            "+----------+\n",
            "|      9999|\n",
            "+----------+\n",
            "\n"
          ]
        }
      ]
    },
    {
      "cell_type": "code",
      "source": [
        "###############################\n",
        "## exercício - com SQL -- com dataframe e com funcoes\n",
        "# #Converter o CSV (https://raw.githubusercontent.com/joegotz/bigDataAnalytics/main/F1_Race_Results.csv) para Spark SQL.\n",
        "#add files\n",
        "from pyspark.sql.functions import col\n",
        "url = 'https://raw.githubusercontent.com/joegotz/bigDataAnalytics/main/F1_Race_Results.csv'\n",
        "sc.sparkContext.addFile(url)\n",
        "# criar dataframe\n",
        "df = sc.read.csv(SparkFiles.get(\"F1_Race_Results.csv\"), header=True, inferSchema=True)\n",
        "#1. Mostrar em ordem decrescente os pilotos com maior número de vitórias.\n",
        "df.groupBy('Winner').count().orderBy('count', ascending=False).show()\n",
        "df=df.withColumn('Laps', col('Laps').cast('int'))\n",
        "df.select('Winner','Laps').groupBy('Winner').avg('Laps').orderBy('avg(Laps)', ascending=False).show()\n",
        "#2. Mostrar em ordem decrescente as equipes com maior número de vitórias.\n",
        "df.groupBy('Car').count().orderBy('count', ascending=False).show()\n",
        "#3. Mostrar em ordem decrescente as pistas com maior número de voltas acumuladas de toda história.\n",
        "#4. Mostrar em ordem decrescente a relação de pilotos com mais vitórias por equipes.\n",
        "#5. Mostrar em ordem decrescente a relação do número de voltas por pilotos a partir de corridas vencidas."
      ],
      "metadata": {
        "id": "mq8H-xNpHPsB",
        "colab": {
          "base_uri": "https://localhost:8080/"
        },
        "outputId": "2274d0b9-bff4-4587-db7b-b9d770461c8d"
      },
      "execution_count": 60,
      "outputs": [
        {
          "output_type": "stream",
          "name": "stdout",
          "text": [
            "+--------------------+-----+\n",
            "|              Winner|count|\n",
            "+--------------------+-----+\n",
            "|  Lewis Hamilton HAM|  103|\n",
            "|Michael Schumache...|   91|\n",
            "|Sebastian Vettel VET|   53|\n",
            "|     Alain Prost PRO|   51|\n",
            "|    Ayrton Senna SEN|   41|\n",
            "| Fernando Alonso ALO|   32|\n",
            "|   Nigel Mansell MAN|   31|\n",
            "|  Jackie Stewart STE|   27|\n",
            "|       Jim Clark CLA|   25|\n",
            "|      Niki Lauda LAU|   25|\n",
            "|Juan Manuel Fangi...|   24|\n",
            "|   Nelson Piquet PIQ|   23|\n",
            "|    Nico Rosberg ROS|   23|\n",
            "|      Damon Hill HIL|   22|\n",
            "|Kimi RÃ¤ikkÃ¶nen RAI|   21|\n",
            "|   Mika Hakkinen HAK|   20|\n",
            "|  Max Verstappen VER|   19|\n",
            "|   Stirling Moss MOS|   16|\n",
            "|   Jenson Button BUT|   15|\n",
            "|    Jack Brabham BRA|   14|\n",
            "+--------------------+-----+\n",
            "only showing top 20 rows\n",
            "\n",
            "+--------------------+-----------------+\n",
            "|              Winner|        avg(Laps)|\n",
            "+--------------------+-----------------+\n",
            "|     Lee Wallard WAL|            200.0|\n",
            "|    Pat Flaherty FLA|            200.0|\n",
            "|     Jimmy Bryan BRY|            200.0|\n",
            "|     Rodger Ward WAR|            200.0|\n",
            "|    Bob Sweikert SWE|            200.0|\n",
            "|    Jim Rathmann RAT|            200.0|\n",
            "|    Troy Ruttman RUT|            200.0|\n",
            "| Bill  Vukovich  VUK|            200.0|\n",
            "|       Sam Hanks HAN|            200.0|\n",
            "|Johnnie  Parsons PAR|            138.0|\n",
            "| Lorenzo Bandini BAN|            105.0|\n",
            "|Maurice  Trintign...|            100.0|\n",
            "|   Innes Ireland IRE|            100.0|\n",
            "|Jose Froilan Gonz...|             90.0|\n",
            "|     Graham Hill HIL|86.28571428571429|\n",
            "|Jean-Pierre Belto...|             80.0|\n",
            "|    Jarno Trulli TRU|             77.0|\n",
            "|Patrick Depailler...|             75.0|\n",
            "|Wolfgang von Trip...|             75.0|\n",
            "|   Olivier Panis PAN|             75.0|\n",
            "+--------------------+-----------------+\n",
            "only showing top 20 rows\n",
            "\n",
            "+--------------------+-----+\n",
            "|                 Car|count|\n",
            "+--------------------+-----+\n",
            "|             Ferrari|  239|\n",
            "|            Mercedes|  115|\n",
            "|    McLaren Mercedes|   79|\n",
            "|    Williams Renault|   64|\n",
            "|          Lotus Ford|   47|\n",
            "|       McLaren Honda|   44|\n",
            "|        McLaren Ford|   35|\n",
            "|             Renault|   35|\n",
            "|Red Bull Racing R...|   35|\n",
            "|         McLaren TAG|   25|\n",
            "|        Lotus Climax|   24|\n",
            "|      Williams Honda|   23|\n",
            "|        Tyrrell Ford|   23|\n",
            "|       Williams Ford|   17|\n",
            "|                 BRM|   17|\n",
            "|Red Bull Racing H...|   16|\n",
            "|        Brabham Ford|   15|\n",
            "|         RBR Renault|   15|\n",
            "|       Cooper Climax|   14|\n",
            "|       Benetton Ford|   14|\n",
            "+--------------------+-----+\n",
            "only showing top 20 rows\n",
            "\n"
          ]
        }
      ]
    },
    {
      "cell_type": "code",
      "source": [
        "url = 'https://raw.githubusercontent.com/joegotz/bigDataAnalytics/main/F1_Race_Results.csv'\n",
        "\n",
        "#adicionar arquivo ao contexto\n",
        "sc.sparkContext.addFile(url)\n",
        "\n",
        "# carregando a base realestate ao Spark\n",
        "df = sc.read.csv(SparkFiles.get(\"F1_Race_Results.csv\"), header=True, inferSchema= True)\n",
        "df.show(5)\n",
        "\n",
        "df.createOrReplaceTempView('f1')"
      ],
      "metadata": {
        "id": "hLZ0chTWKwY7",
        "colab": {
          "base_uri": "https://localhost:8080/"
        },
        "outputId": "912a17c8-e1f9-4233-bd88-54b8838785df"
      },
      "execution_count": 35,
      "outputs": [
        {
          "output_type": "stream",
          "name": "stdout",
          "text": [
            "+----------------+-----------+--------------------+--------------------+----+-----------+\n",
            "|       GrandPrix|       Date|              Winner|                 Car|Laps|       Time|\n",
            "+----------------+-----------+--------------------+--------------------+----+-----------+\n",
            "|   Great Britain|13 May 1950|     Nino Farina FAR|          Alfa Romeo|  70|2:13:23.600|\n",
            "|          Monaco|21 May 1950|Juan Manuel Fangi...|          Alfa Romeo| 100|3:13:18.700|\n",
            "|Indianapolis 500|30 May 1950|Johnnie  Parsons PAR|Kurtis Kraft Offe...| 138|2:46:55.970|\n",
            "|     Switzerland|04 Jun 1950|     Nino Farina FAR|          Alfa Romeo|  42|2:02:53.700|\n",
            "|         Belgium|18 Jun 1950|Juan Manuel Fangi...|          Alfa Romeo|  35|2:47:26.000|\n",
            "+----------------+-----------+--------------------+--------------------+----+-----------+\n",
            "only showing top 5 rows\n",
            "\n"
          ]
        }
      ]
    },
    {
      "cell_type": "code",
      "source": [
        "#1. Mostrar em ordem decrescente os pilotos com maior número de vitórias.\n",
        "#a. sql\n"
      ],
      "metadata": {
        "id": "n86bzWcFKwbg"
      },
      "execution_count": null,
      "outputs": []
    },
    {
      "cell_type": "code",
      "source": [
        "#b.dataframe\n"
      ],
      "metadata": {
        "id": "O_30VR1PKwd_"
      },
      "execution_count": null,
      "outputs": []
    },
    {
      "cell_type": "code",
      "source": [
        "#c. funcoes\n"
      ],
      "metadata": {
        "id": "Te1V2VLhK8W9"
      },
      "execution_count": null,
      "outputs": []
    },
    {
      "cell_type": "code",
      "source": [
        "#2. Mostrar em ordem decrescente as equipes com maior número de vitórias.\n",
        "#a. sql\n"
      ],
      "metadata": {
        "id": "nRvRRWFIK8Zb"
      },
      "execution_count": null,
      "outputs": []
    },
    {
      "cell_type": "code",
      "source": [
        "#b.dataframe\n"
      ],
      "metadata": {
        "id": "VwLfToSXLCfd"
      },
      "execution_count": null,
      "outputs": []
    },
    {
      "cell_type": "code",
      "source": [
        "#c. funcoes\n"
      ],
      "metadata": {
        "id": "3XDdNqwTLCiN"
      },
      "execution_count": null,
      "outputs": []
    },
    {
      "cell_type": "code",
      "source": [
        "#3. Mostrar em ordem decrescente as pistas com maior número de voltas acumuladas de toda história.\n",
        "#a. sql\n"
      ],
      "metadata": {
        "id": "NMVaXhqLLCkh"
      },
      "execution_count": null,
      "outputs": []
    },
    {
      "cell_type": "code",
      "source": [
        "#b.dataframe\n"
      ],
      "metadata": {
        "id": "iArDhF7LLCmu"
      },
      "execution_count": null,
      "outputs": []
    },
    {
      "cell_type": "code",
      "source": [
        "#c. funcoes\n"
      ],
      "metadata": {
        "id": "PPwriW2ULK3Z"
      },
      "execution_count": null,
      "outputs": []
    },
    {
      "cell_type": "code",
      "source": [
        "#4. Mostrar em ordem decrescente a relação de pilotos com mais vitórias por equipes.\n",
        "#a. sql\n"
      ],
      "metadata": {
        "id": "jMKO60D2LK7V"
      },
      "execution_count": null,
      "outputs": []
    },
    {
      "cell_type": "code",
      "source": [
        "#b.dataframe\n"
      ],
      "metadata": {
        "id": "1C7pASgrLK-9"
      },
      "execution_count": null,
      "outputs": []
    },
    {
      "cell_type": "code",
      "source": [
        "#c. funcoes\n"
      ],
      "metadata": {
        "id": "SrXsEn_zK8bm"
      },
      "execution_count": null,
      "outputs": []
    },
    {
      "cell_type": "code",
      "source": [
        "#5. Mostrar em ordem decrescente a relação do número de voltas por pilotos a partir de corridas vencidas.\n",
        "#a. sql\n"
      ],
      "metadata": {
        "id": "ROhZEsp-LVPP"
      },
      "execution_count": null,
      "outputs": []
    },
    {
      "cell_type": "code",
      "source": [
        "#b.dataframe\n"
      ],
      "metadata": {
        "id": "PaqNnj6yLVZb"
      },
      "execution_count": null,
      "outputs": []
    },
    {
      "cell_type": "code",
      "source": [
        "#c. funcoes\n"
      ],
      "metadata": {
        "id": "Y3JkENNqLaKB"
      },
      "execution_count": null,
      "outputs": []
    },
    {
      "cell_type": "code",
      "source": [
        "#############################################\n",
        "##    Pandas\n",
        "#############################################"
      ],
      "metadata": {
        "id": "2zVMD2x4LaNB"
      },
      "execution_count": null,
      "outputs": []
    },
    {
      "cell_type": "code",
      "source": [
        "##Pandas\n",
        "#importar pandas\n",
        "import pandas as pd"
      ],
      "metadata": {
        "id": "Sw1WNsQILhMC"
      },
      "execution_count": null,
      "outputs": []
    },
    {
      "cell_type": "code",
      "source": [
        "#criar dataframe\n",
        "url = 'https://raw.githubusercontent.com/joegotz/bigDataAnalytics/main/realstate.csv'\n",
        "\n",
        "df = pd.read_csv(url, delimiter=',')"
      ],
      "metadata": {
        "id": "Z9sWpDyVLhOl"
      },
      "execution_count": null,
      "outputs": []
    },
    {
      "cell_type": "code",
      "source": [
        "# exibir\n"
      ],
      "metadata": {
        "id": "lbjojI9RLhQz"
      },
      "execution_count": null,
      "outputs": []
    },
    {
      "cell_type": "code",
      "source": [
        "#1. Select bairros e preços\n",
        "#2. Select bairros e preços com acomodação com preço > 150\n",
        "#3. Selecionar bairros e preços com preço > 150 e agrupado por bairro\n",
        "#4. Selecionar apartamentos mais caros\n",
        "#5. Selecionar apartamento mais caro  por bairro\n",
        "#6. Selecionar o apartamento mais caro de Manhattan"
      ],
      "metadata": {
        "id": "Zd_HHNn9LhTT"
      },
      "execution_count": null,
      "outputs": []
    },
    {
      "cell_type": "code",
      "source": [
        "#1. Select bairros e preços\n"
      ],
      "metadata": {
        "id": "4KLSeH3ILhW7"
      },
      "execution_count": null,
      "outputs": []
    },
    {
      "cell_type": "code",
      "source": [
        "#2. Select bairros e preços com acomodação com preço > 150\n"
      ],
      "metadata": {
        "id": "8Bvwj3CeKwgx"
      },
      "execution_count": null,
      "outputs": []
    },
    {
      "cell_type": "code",
      "source": [
        "#3. Fazer a contagem de apartamentos por bairros que possuem preço acima de 150\n"
      ],
      "metadata": {
        "id": "fGZZPakXLwM0"
      },
      "execution_count": null,
      "outputs": []
    },
    {
      "cell_type": "code",
      "source": [
        "#4. Selecionar apartamentos mais caros\n"
      ],
      "metadata": {
        "id": "qIZQKTGZLz5k"
      },
      "execution_count": null,
      "outputs": []
    },
    {
      "cell_type": "code",
      "source": [
        "#5. Selecionar apartamento mais caro  por bairro\n"
      ],
      "metadata": {
        "id": "nQs7EvhcL1TL"
      },
      "execution_count": null,
      "outputs": []
    },
    {
      "cell_type": "code",
      "source": [
        "#6. Selecionar o apartamento mais caro de Manhattan\n"
      ],
      "metadata": {
        "id": "RhUj3rZLL1WF"
      },
      "execution_count": null,
      "outputs": []
    },
    {
      "cell_type": "code",
      "source": [
        "#7. Contar número de apartamentos por bairro\n"
      ],
      "metadata": {
        "id": "2ml98cS7L1Yk"
      },
      "execution_count": null,
      "outputs": []
    },
    {
      "cell_type": "code",
      "source": [
        "####################################\n",
        "## Atividades com Pandas\n",
        "####################################"
      ],
      "metadata": {
        "id": "vtchhdJOL1bC"
      },
      "execution_count": null,
      "outputs": []
    },
    {
      "cell_type": "code",
      "source": [
        "#1. Mostrar em ordem decrescente os pilotos com maior número de vitórias.\n",
        "url = 'https://raw.githubusercontent.com/joegotz/bigDataAnalytics/main/F1_Race_Results.csv'\n",
        "df3 = pd.read_csv(url, delimiter=',')\n",
        "\n",
        "\n"
      ],
      "metadata": {
        "id": "dppi3H-lPFx8"
      },
      "execution_count": null,
      "outputs": []
    },
    {
      "cell_type": "code",
      "source": [
        "#2. Mostrar em ordem decrescente as equipes com maior número de vitórias.\n"
      ],
      "metadata": {
        "id": "C2H7PSJTPF06"
      },
      "execution_count": null,
      "outputs": []
    },
    {
      "cell_type": "code",
      "source": [
        "#3. Mostrar em ordem decrescente as pistas com maior número de voltas acumuladas de toda história.\n"
      ],
      "metadata": {
        "id": "QB_NEGchPF3i"
      },
      "execution_count": null,
      "outputs": []
    },
    {
      "cell_type": "code",
      "source": [
        "#4. Mostrar em ordem decrescente a relação de pilotos com mais vitórias por equipes.\n"
      ],
      "metadata": {
        "id": "3ep8gUkSPKLP"
      },
      "execution_count": null,
      "outputs": []
    },
    {
      "cell_type": "code",
      "source": [
        "#5. Mostrar em ordem decrescente a relação do número de voltas por pilotos a partir de corridas vencidas.\n"
      ],
      "metadata": {
        "id": "IBvN7i-sPMOF"
      },
      "execution_count": null,
      "outputs": []
    }
  ]
}